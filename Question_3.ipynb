{
 "cells": [
  {
   "cell_type": "code",
   "execution_count": 8,
   "id": "640d0cba",
   "metadata": {},
   "outputs": [
    {
     "name": "stdout",
     "output_type": "stream",
     "text": [
      "Enter the first string: mom\n",
      "Enter the second string: mom\n",
      "two strings are in rotation of each other: \n"
     ]
    }
   ],
   "source": [
    "class Stack:\n",
    "    def __init__(self,limit):\n",
    "        self.limit = limit\n",
    "        self.elements = []\n",
    "        \n",
    "    def push(self,number):\n",
    "        if len(self.elements)== self.limit:\n",
    "            print('stack is full')\n",
    "        else:\n",
    "            self.elements.append(number)\n",
    "            \n",
    "    def pop(self):\n",
    "        if len(self.elements)==0:\n",
    "            print('The stack is empty')\n",
    "        else:\n",
    "            #print(f'removing {self.elements[-1]} from the stack')\n",
    "            return self.elements.pop()\n",
    "            \n",
    "    def peek(self):\n",
    "        if len(self.elements)==0:\n",
    "            print('The stack is empty')\n",
    "        else:\n",
    "            return self.elements[-1]\n",
    "    \n",
    "    def isEmpty(self):\n",
    "        if len(self.elements)== 0:\n",
    "            return True\n",
    "        else:\n",
    "            return False\n",
    "        \n",
    "    def print_stack(self):\n",
    "        for item in self.elements:\n",
    "            print(item,end=' ')\n",
    "        \n",
    "            \n",
    "            \n",
    "str1=input(\"Enter the first string: \")\n",
    "str2=input(\"Enter the second string: \")\n",
    "str2=list(str2)\n",
    "ch=[]\n",
    "stack1=Stack(len(str2))\n",
    "for i in str2:\n",
    "    stack1.push(i)\n",
    "while not stack1.isEmpty():\n",
    "    ch.append(stack1.pop())\n",
    "str2=\"\".join(ch)\n",
    "if str1==str2:\n",
    "    print(\"two strings are in rotation of each other: \")\n",
    "else:\n",
    "    print(\"two strings are NOT IN rotation of each other: \")"
   ]
  },
  {
   "cell_type": "code",
   "execution_count": null,
   "id": "1f63e4b2",
   "metadata": {},
   "outputs": [],
   "source": []
  }
 ],
 "metadata": {
  "kernelspec": {
   "display_name": "Python 3 (ipykernel)",
   "language": "python",
   "name": "python3"
  },
  "language_info": {
   "codemirror_mode": {
    "name": "ipython",
    "version": 3
   },
   "file_extension": ".py",
   "mimetype": "text/x-python",
   "name": "python",
   "nbconvert_exporter": "python",
   "pygments_lexer": "ipython3",
   "version": "3.10.2"
  }
 },
 "nbformat": 4,
 "nbformat_minor": 5
}
