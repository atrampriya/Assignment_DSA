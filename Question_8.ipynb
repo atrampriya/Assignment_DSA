{
 "cells": [
  {
   "cell_type": "code",
   "execution_count": 35,
   "id": "f33ba422",
   "metadata": {},
   "outputs": [],
   "source": [
    "class Stack:\n",
    "    def __init__(self, limit):\n",
    "        self.limit = limit\n",
    "        self.items = []\n",
    "        \n",
    "    def push(self,num):\n",
    "        if len(self.items) == self.limit:\n",
    "            print(\"Stack is full!!\")\n",
    "        else:\n",
    "            self.items.append(num)\n",
    "            \n",
    "    def pop(self):\n",
    "        if len(self.items)==0:\n",
    "            print('The stack is empty')\n",
    "        else:\n",
    "            print(f'removing {self.items[-1]} from the stack')\n",
    "            self.items.pop()\n",
    "            \n",
    "    def peek(self):\n",
    "        if len(self.items)==0:\n",
    "            print('The stack is empty')\n",
    "        else:\n",
    "            return self.items[-1]\n",
    "    \n",
    "    def isEmpty(self):\n",
    "        if len(self.items)== 0:\n",
    "            return True\n",
    "        else:\n",
    "            return False\n",
    "         \n",
    "    def balance_text(self, text):\n",
    "        newstack = Stack(len(text))\n",
    "    \n",
    "        balance_dict = {'}':'{',')':'(',']':'['}\n",
    "        for char in text:\n",
    "            if char in ('(','{','['):\n",
    "                newstack.push(char)\n",
    "            elif char in (')','}',']'):  \n",
    "                if newstack.peek() == balance_dict.get(char):\n",
    "                    newstack.pop()\n",
    "                else:\n",
    "                    return False\n",
    "        if newstack.isEmpty():\n",
    "            return True\n",
    "        else:\n",
    "            return False\n",
    "   "
   ]
  },
  {
   "cell_type": "code",
   "execution_count": 36,
   "id": "4e94f0fe",
   "metadata": {},
   "outputs": [],
   "source": [
    "st = Stack(5)"
   ]
  },
  {
   "cell_type": "code",
   "execution_count": 39,
   "id": "98d6cf9c",
   "metadata": {},
   "outputs": [
    {
     "name": "stdout",
     "output_type": "stream",
     "text": [
      "removing ( from the stack\n",
      "removing [ from the stack\n",
      "removing { from the stack\n"
     ]
    },
    {
     "data": {
      "text/plain": [
       "True"
      ]
     },
     "execution_count": 39,
     "metadata": {},
     "output_type": "execute_result"
    }
   ],
   "source": [
    "st.balance_text(\"{[()]}\")"
   ]
  },
  {
   "cell_type": "code",
   "execution_count": null,
   "id": "77cfd1b9",
   "metadata": {},
   "outputs": [],
   "source": []
  }
 ],
 "metadata": {
  "kernelspec": {
   "display_name": "Python 3 (ipykernel)",
   "language": "python",
   "name": "python3"
  },
  "language_info": {
   "codemirror_mode": {
    "name": "ipython",
    "version": 3
   },
   "file_extension": ".py",
   "mimetype": "text/x-python",
   "name": "python",
   "nbconvert_exporter": "python",
   "pygments_lexer": "ipython3",
   "version": "3.10.2"
  }
 },
 "nbformat": 4,
 "nbformat_minor": 5
}
