{
 "cells": [
  {
   "cell_type": "code",
   "execution_count": 1,
   "id": "b1227b63",
   "metadata": {},
   "outputs": [
    {
     "name": "stdout",
     "output_type": "stream",
     "text": [
      "Enter the first string :priya\n",
      "\n",
      "------ Current stack --------\n",
      "\n",
      "a \n",
      "------ Current stack --------\n",
      "\n",
      "a y \n",
      "------ Current stack --------\n",
      "\n",
      "a y i \n",
      "------ Current stack --------\n",
      "\n",
      "a y i r \n",
      "------ Current stack --------\n",
      "\n",
      "a y i r p \n",
      "reverse of Stack: priya\n"
     ]
    }
   ],
   "source": [
    "class Stack:\n",
    "    def __init__(self,limit):\n",
    "        self.limit = limit\n",
    "        self.elements = []\n",
    "        \n",
    "    def push(self,number):\n",
    "        if len(self.elements)== self.limit:\n",
    "            print('stack is full')\n",
    "        else:\n",
    "            self.elements.append(number)\n",
    "            \n",
    "    def pop(self):\n",
    "        if len(self.elements)==0:\n",
    "            print('The stack is empty')\n",
    "        else:\n",
    "            #print(f'removing {self.elements[-1]} from the stack')\n",
    "            return self.elements.pop()\n",
    "            \n",
    "    def isEmpty(self):\n",
    "        if len(self.elements)== 0:\n",
    "            return True\n",
    "        else:\n",
    "            return False\n",
    "        \n",
    "    def print_stack(self):\n",
    "        print('\\n------ Current stack --------\\n')\n",
    "        for item in self.elements:\n",
    "            print(item,end=' ')\n",
    "    \n",
    "def reverse_stack(str1):\n",
    "    ch=[]\n",
    "    for i in str1:\n",
    "        stack1.push(i)\n",
    "    while not stack1.isEmpty():\n",
    "        stack2.push(stack1.pop())\n",
    "        stack2.print_stack()\n",
    "    while not stack2.isEmpty():\n",
    "        ch.append(stack2.pop())\n",
    "    return ch\n",
    "            \n",
    "str1=input(\"Enter the first string :\")\n",
    "str1=list(str1)\n",
    "ch=[]\n",
    "stack1=Stack(len(str1))\n",
    "stack2=Stack(len(str1))\n",
    "ch=reverse_stack(str1)\n",
    "str2=\"\".join(ch)\n",
    "print(\"\\nreverse of Stack:\",str2)       "
   ]
  },
  {
   "cell_type": "code",
   "execution_count": null,
   "id": "f07c7241",
   "metadata": {},
   "outputs": [],
   "source": []
  },
  {
   "cell_type": "code",
   "execution_count": null,
   "id": "3f2b7f7d",
   "metadata": {},
   "outputs": [],
   "source": []
  },
  {
   "cell_type": "code",
   "execution_count": null,
   "id": "56c438ca",
   "metadata": {},
   "outputs": [],
   "source": []
  }
 ],
 "metadata": {
  "kernelspec": {
   "display_name": "Python 3 (ipykernel)",
   "language": "python",
   "name": "python3"
  },
  "language_info": {
   "codemirror_mode": {
    "name": "ipython",
    "version": 3
   },
   "file_extension": ".py",
   "mimetype": "text/x-python",
   "name": "python",
   "nbconvert_exporter": "python",
   "pygments_lexer": "ipython3",
   "version": "3.10.2"
  }
 },
 "nbformat": 4,
 "nbformat_minor": 5
}
