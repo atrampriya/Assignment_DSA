{
 "cells": [
  {
   "cell_type": "code",
   "execution_count": 63,
   "id": "68402b6d",
   "metadata": {},
   "outputs": [],
   "source": [
    "class create_Array:\n",
    "    def __init__(self, limit):\n",
    "        self.limit = limit\n",
    "        self.size = 0\n",
    "        self.elements =[]\n",
    "        \n",
    "    def add_item(self, number):\n",
    "        if self.size < self.limit:\n",
    "            if self.size != 0:\n",
    "                if type(self.elements[0]) == type(number):\n",
    "                    self.elements.append(number)\n",
    "                    self.size += 1\n",
    "                else:\n",
    "                    print(\"Element is not homogenous\")\n",
    "            else:\n",
    "                self.elements.append(number)\n",
    "                self.size += 1\n",
    "        else:\n",
    "            print(\"There is no space for new element\")\n",
    "        \n",
    "    def print_array(self):\n",
    "        print(self.elements)\n",
    "            \n",
    "    def pairs(self, sum):\n",
    "        for i in range(len(self.elements)):\n",
    "            for j in range(i+1, len(self.elements)):\n",
    "                if (self.elements[i]+self.elements[j] == sum):\n",
    "                    print(self.elements[i], self.elements[j])"
   ]
  },
  {
   "cell_type": "code",
   "execution_count": 64,
   "id": "fe27e9cd",
   "metadata": {},
   "outputs": [
    {
     "name": "stdout",
     "output_type": "stream",
     "text": [
      "Enter the limit of array: 15\n"
     ]
    }
   ],
   "source": [
    "arr1 = create_Array(int(input(\"Enter the limit of array: \")))"
   ]
  },
  {
   "cell_type": "code",
   "execution_count": 82,
   "id": "a69a786c",
   "metadata": {},
   "outputs": [
    {
     "name": "stdout",
     "output_type": "stream",
     "text": [
      "Enter element: 14\n"
     ]
    }
   ],
   "source": [
    "arr1.add_item(int(input(\"Enter element: \")))"
   ]
  },
  {
   "cell_type": "code",
   "execution_count": 83,
   "id": "e893fe47",
   "metadata": {},
   "outputs": [
    {
     "name": "stdout",
     "output_type": "stream",
     "text": [
      "[0, 1, 2, 3, 4, 5, 6, 7, 8, 9, 10, 11, 12, 13, 14]\n"
     ]
    }
   ],
   "source": [
    "arr1.print_array()"
   ]
  },
  {
   "cell_type": "code",
   "execution_count": 84,
   "id": "70e83b1d",
   "metadata": {},
   "outputs": [
    {
     "name": "stdout",
     "output_type": "stream",
     "text": [
      "0 9\n",
      "1 8\n",
      "2 7\n",
      "3 6\n",
      "4 5\n"
     ]
    }
   ],
   "source": [
    "arr1.pairs(9)"
   ]
  }
 ],
 "metadata": {
  "kernelspec": {
   "display_name": "Python 3 (ipykernel)",
   "language": "python",
   "name": "python3"
  },
  "language_info": {
   "codemirror_mode": {
    "name": "ipython",
    "version": 3
   },
   "file_extension": ".py",
   "mimetype": "text/x-python",
   "name": "python",
   "nbconvert_exporter": "python",
   "pygments_lexer": "ipython3",
   "version": "3.10.2"
  }
 },
 "nbformat": 4,
 "nbformat_minor": 5
}
