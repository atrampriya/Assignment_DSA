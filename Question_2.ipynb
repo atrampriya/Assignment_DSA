{
 "cells": [
  {
   "cell_type": "code",
   "execution_count": 110,
   "id": "2e9247ae",
   "metadata": {},
   "outputs": [],
   "source": [
    "class Create_array:\n",
    "    def __init__(self, limit):\n",
    "        self.limit = limit\n",
    "        self.size = 0\n",
    "        self.items = []\n",
    "        \n",
    "    def add_item(self, number):\n",
    "        if self.size < self.limit:\n",
    "            if self.size != 0:\n",
    "                if type(self.items[0]) == type(number):\n",
    "                    self.items.append(number)\n",
    "                    self.size += 1\n",
    "                else:\n",
    "                    print(\"Item is not homogenous\")\n",
    "            else:\n",
    "                self.items.append(number)\n",
    "                self.size += 1\n",
    "        else:\n",
    "            print(\"There is no space for new items\")\n",
    "            \n",
    "    def print_array(self):\n",
    "        print(self.items)\n",
    "        \n",
    "    def reverse(self, start, end):\n",
    "        while start < end:\n",
    "            self.items[start], self.items[end] = self.items[end], self.items[start]\n",
    "            start +=1\n",
    "            end -=1"
   ]
  },
  {
   "cell_type": "code",
   "execution_count": 111,
   "id": "20eb05e2",
   "metadata": {},
   "outputs": [
    {
     "name": "stdout",
     "output_type": "stream",
     "text": [
      "Enter limit of array: 5\n"
     ]
    }
   ],
   "source": [
    "arr1 = Create_array(int(input(\"Enter limit of array: \")))"
   ]
  },
  {
   "cell_type": "code",
   "execution_count": 116,
   "id": "65f1804f",
   "metadata": {},
   "outputs": [
    {
     "name": "stdout",
     "output_type": "stream",
     "text": [
      "Enter the numbers: 5\n"
     ]
    }
   ],
   "source": [
    "arr1.add_item(int(input(\"Enter the numbers: \")))"
   ]
  },
  {
   "cell_type": "code",
   "execution_count": 117,
   "id": "68b6e698",
   "metadata": {},
   "outputs": [
    {
     "name": "stdout",
     "output_type": "stream",
     "text": [
      "[1, 2, 3, 4, 5]\n"
     ]
    }
   ],
   "source": [
    "arr1.print_array()"
   ]
  },
  {
   "cell_type": "code",
   "execution_count": 118,
   "id": "0061d8de",
   "metadata": {},
   "outputs": [],
   "source": [
    "arr1.reverse(0,4)"
   ]
  },
  {
   "cell_type": "code",
   "execution_count": 119,
   "id": "09ac6726",
   "metadata": {},
   "outputs": [
    {
     "name": "stdout",
     "output_type": "stream",
     "text": [
      "[5, 4, 3, 2, 1]\n"
     ]
    }
   ],
   "source": [
    "arr1.print_array()"
   ]
  }
 ],
 "metadata": {
  "kernelspec": {
   "display_name": "Python 3 (ipykernel)",
   "language": "python",
   "name": "python3"
  },
  "language_info": {
   "codemirror_mode": {
    "name": "ipython",
    "version": 3
   },
   "file_extension": ".py",
   "mimetype": "text/x-python",
   "name": "python",
   "nbconvert_exporter": "python",
   "pygments_lexer": "ipython3",
   "version": "3.10.2"
  }
 },
 "nbformat": 4,
 "nbformat_minor": 5
}
