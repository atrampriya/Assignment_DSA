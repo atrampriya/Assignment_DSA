{
 "cells": [
  {
   "cell_type": "code",
   "execution_count": 4,
   "id": "95a2c845",
   "metadata": {},
   "outputs": [],
   "source": [
    "class stacks:\n",
    "    def __init__(self, limit):\n",
    "        self.limit = limit\n",
    "        self.items1 = []\n",
    "        self.items2 = []\n",
    "        self.items3 = []\n",
    "        \n",
    "    def push(self, num):\n",
    "        if len(self.items1) == self.limit:\n",
    "            print(\"Stack is full\")\n",
    "        else:\n",
    "            self.items1.append(num)\n",
    "            \n",
    "    def A_B(self):\n",
    "        if self.items1 == 0:\n",
    "            print(\"Stack is empty\")\n",
    "        else:\n",
    "            temp1 = self.items1[-1]\n",
    "            self.items2.append(temp1)\n",
    "            self.items1.pop()\n",
    "            \n",
    "    def A_C(self):\n",
    "        if self.items1 == 0:\n",
    "            print(\"Stack is empty\")\n",
    "        else:\n",
    "            temp2 = self.items1[-1]\n",
    "            self.items3.append(temp2)\n",
    "            self.items1.pop()\n",
    "            \n",
    "    def B_C(self):\n",
    "        if self.items2 == 0:\n",
    "            print(\"Stack is empty\")\n",
    "        else:\n",
    "            temp3 = self.items2[-1]\n",
    "            self.items3.append(temp3)\n",
    "            self.items2.pop()\n",
    "            \n",
    "    def C_A(self):\n",
    "        if self.items3 == 0:\n",
    "            print(\"Stack is empty\")\n",
    "        else:\n",
    "            temp4 = self.items3[-1]\n",
    "            self.items1.append(temp4)\n",
    "            self.items3.pop()\n",
    "            \n",
    "    def C_B(self):\n",
    "        if self.items3 == 0:\n",
    "            print(\"Stack is empty\")\n",
    "        else:\n",
    "            temp5 = self.items3[-1]\n",
    "            self.items2.append(temp5)\n",
    "            self.items3.pop()\n",
    "            \n",
    "    def B_A(self):\n",
    "        if self.items2 == 0:\n",
    "            print(\"Stack is empty\")\n",
    "        else:\n",
    "            temp6 = self.items2[-1]\n",
    "            self.items1.append(temp6)\n",
    "            self.items2.pop()\n",
    "            \n",
    "    def print_stacks(self):\n",
    "        print(f\"A: {self.items1} B: {self.items2} C: {self.items3}\")"
   ]
  },
  {
   "cell_type": "code",
   "execution_count": 6,
   "id": "146b005a",
   "metadata": {},
   "outputs": [
    {
     "name": "stdout",
     "output_type": "stream",
     "text": [
      "Enter limit of stack: 4\n"
     ]
    }
   ],
   "source": [
    "st1 = stacks(int(input(\"Enter limit of stack: \")))"
   ]
  },
  {
   "cell_type": "code",
   "execution_count": 10,
   "id": "fbc34b6d",
   "metadata": {},
   "outputs": [],
   "source": [
    "st1.push(4)"
   ]
  },
  {
   "cell_type": "code",
   "execution_count": 11,
   "id": "42d2bb12",
   "metadata": {},
   "outputs": [
    {
     "name": "stdout",
     "output_type": "stream",
     "text": [
      "A: [1, 2, 3, 4] B: [] C: []\n",
      "A: [1, 2, 3] B: [4] C: []\n",
      "A: [1, 2] B: [4] C: [3]\n",
      "A: [1, 2] B: [] C: [3, 4]\n",
      "A: [1] B: [2] C: [3, 4]\n",
      "A: [1, 4] B: [2] C: [3]\n",
      "A: [1, 4] B: [2, 3] C: []\n",
      "A: [1] B: [2, 3, 4] C: []\n",
      "A: [] B: [2, 3, 4] C: [1]\n",
      "A: [] B: [2, 3] C: [1, 4]\n",
      "A: [3] B: [2] C: [1, 4]\n",
      "A: [3, 4] B: [2] C: [1]\n",
      "A: [3, 4] B: [] C: [1, 2]\n",
      "A: [3] B: [4] C: [1, 2]\n",
      "A: [] B: [4] C: [1, 2, 3]\n",
      "A: [] B: [] C: [1, 2, 3, 4]\n"
     ]
    }
   ],
   "source": [
    "st1.print_stacks()\n",
    "st1.A_B()\n",
    "st1.print_stacks()\n",
    "st1.A_C()\n",
    "st1.print_stacks()\n",
    "st1.B_C()\n",
    "st1.print_stacks()\n",
    "st1.A_B()\n",
    "st1.print_stacks()\n",
    "st1.C_A()\n",
    "st1.print_stacks()\n",
    "st1.C_B()\n",
    "st1.print_stacks()\n",
    "st1.A_B()\n",
    "st1.print_stacks()\n",
    "st1.A_C()\n",
    "st1.print_stacks()\n",
    "st1.B_C()\n",
    "st1.print_stacks()\n",
    "st1.B_A()\n",
    "st1.print_stacks()\n",
    "st1.C_A()\n",
    "st1.print_stacks()\n",
    "st1.B_C()\n",
    "st1.print_stacks()\n",
    "st1.A_B()\n",
    "st1.print_stacks()\n",
    "st1.A_C()\n",
    "st1.print_stacks()\n",
    "st1.B_C()\n",
    "st1.print_stacks()"
   ]
  }
 ],
 "metadata": {
  "kernelspec": {
   "display_name": "Python 3 (ipykernel)",
   "language": "python",
   "name": "python3"
  },
  "language_info": {
   "codemirror_mode": {
    "name": "ipython",
    "version": 3
   },
   "file_extension": ".py",
   "mimetype": "text/x-python",
   "name": "python",
   "nbconvert_exporter": "python",
   "pygments_lexer": "ipython3",
   "version": "3.10.2"
  }
 },
 "nbformat": 4,
 "nbformat_minor": 5
}
