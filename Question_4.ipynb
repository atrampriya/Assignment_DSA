{
 "cells": [
  {
   "cell_type": "code",
   "execution_count": 3,
   "id": "cc05fd6c",
   "metadata": {},
   "outputs": [
    {
     "name": "stdout",
     "output_type": "stream",
     "text": [
      "First non-repeating character is: p\n"
     ]
    }
   ],
   "source": [
    "no_of_chars = 256\n",
    " \n",
    "def Count_char_Array(str):\n",
    "    count = [0] * no_of_chars\n",
    "    for i in str:\n",
    "        count[ord(i)]+= 1\n",
    "    return count\n",
    " \n",
    "def first_Non_Repeating(str):\n",
    "    count = Count_char_Array(str)\n",
    "    index = -1\n",
    "    a = 0\n",
    " \n",
    "    for i in str:\n",
    "        if count[ord(i)] == 1:\n",
    "            index = a\n",
    "            break\n",
    "        a += 1\n",
    " \n",
    "    return index\n",
    "\n",
    "str = \"atrampriyaatram\"\n",
    "index = first_Non_Repeating(str)\n",
    "if index == 1:\n",
    "    print (\"Either all characters are repeating or string is empty\")\n",
    "else:\n",
    "    print (f\"First non-repeating character is: {str[index]}\")"
   ]
  },
  {
   "cell_type": "code",
   "execution_count": null,
   "id": "4f15848b",
   "metadata": {},
   "outputs": [],
   "source": []
  }
 ],
 "metadata": {
  "kernelspec": {
   "display_name": "Python 3 (ipykernel)",
   "language": "python",
   "name": "python3"
  },
  "language_info": {
   "codemirror_mode": {
    "name": "ipython",
    "version": 3
   },
   "file_extension": ".py",
   "mimetype": "text/x-python",
   "name": "python",
   "nbconvert_exporter": "python",
   "pygments_lexer": "ipython3",
   "version": "3.10.2"
  }
 },
 "nbformat": 4,
 "nbformat_minor": 5
}
