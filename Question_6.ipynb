{
 "cells": [
  {
   "cell_type": "code",
   "execution_count": 5,
   "id": "cfe23df5",
   "metadata": {},
   "outputs": [
    {
     "name": "stdout",
     "output_type": "stream",
     "text": [
      "Enter the Postfix String: PGA/-VG/L-*\n",
      "*-P/GA-/VGL\n"
     ]
    }
   ],
   "source": [
    "class Stack:\n",
    "    def __init__(self,limit):\n",
    "        self.limit = limit\n",
    "        self.elements = []\n",
    "        \n",
    "    def push(self,number):\n",
    "        if len(self.elements)== self.limit:\n",
    "            print('stack is full')\n",
    "        else:\n",
    "            self.elements.append(number)\n",
    "            \n",
    "    def pop(self):\n",
    "        if len(self.elements)==0:\n",
    "            print('The stack is empty')\n",
    "        else:\n",
    "            return self.elements.pop()\n",
    "    \n",
    "    def isEmpty(self):\n",
    "        if len(self.elements)== 0:\n",
    "            return True\n",
    "        else:\n",
    "            return False\n",
    "        \n",
    "str = input(\"Enter the Postfix String: \")\n",
    "stack = Stack(len(str))\n",
    "list_opr = ['*', '-', '/', '^']\n",
    "for i in str:\n",
    "    if i.isalpha():\n",
    "        stack.push(i)\n",
    "    if i in list_opr:\n",
    "        operand1 = stack.pop()\n",
    "        operand2 = stack.pop()\n",
    "        temp = i + operand2 + operand1\n",
    "        stack.push(temp)\n",
    "print(stack.pop())"
   ]
  }
 ],
 "metadata": {
  "kernelspec": {
   "display_name": "Python 3 (ipykernel)",
   "language": "python",
   "name": "python3"
  },
  "language_info": {
   "codemirror_mode": {
    "name": "ipython",
    "version": 3
   },
   "file_extension": ".py",
   "mimetype": "text/x-python",
   "name": "python",
   "nbconvert_exporter": "python",
   "pygments_lexer": "ipython3",
   "version": "3.10.2"
  }
 },
 "nbformat": 4,
 "nbformat_minor": 5
}
