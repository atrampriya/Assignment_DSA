{
 "cells": [
  {
   "cell_type": "code",
   "execution_count": 7,
   "id": "cefdb27a",
   "metadata": {},
   "outputs": [
    {
     "name": "stdout",
     "output_type": "stream",
     "text": [
      "Enter the Prefix String: *+AB-CD\n",
      "A+B*C-D\n"
     ]
    }
   ],
   "source": [
    "class Stack:\n",
    "    def __init__(self,limit):\n",
    "        self.limit = limit\n",
    "        self.elements = []\n",
    "        \n",
    "    def push(self,number):\n",
    "        if len(self.elements)== self.limit:\n",
    "            print('stack is full')\n",
    "        else:\n",
    "            self.elements.append(number)\n",
    "            \n",
    "    def pop(self):\n",
    "        if len(self.elements)==0:\n",
    "            print('The stack is empty')\n",
    "        else:\n",
    "            #print(f'removing {self.elements[-1]} from the stack')\n",
    "            return self.elements.pop()\n",
    "            \n",
    "    def peek(self):\n",
    "        if len(self.elements)==0:\n",
    "            print('The stack is empty')\n",
    "        else:\n",
    "            return self.elements[-1]\n",
    "    \n",
    "    def isEmpty(self):\n",
    "        if len(self.elements)== 0:\n",
    "            return True\n",
    "        else:\n",
    "            return False\n",
    "        \n",
    "str1=input(\"Enter the Prefix String: \")\n",
    "str1=str1[::-1]\n",
    "stack1=Stack(len(str1))\n",
    "list1=['*','%','+','/','^','-']\n",
    "for i in str1:\n",
    "    if i.isalpha():\n",
    "        stack1.push(i)\n",
    "    if i in list1:\n",
    "        a=stack1.pop()\n",
    "        b=stack1.pop()\n",
    "        i=a+i+b\n",
    "        stack1.push(i)\n",
    "print(stack1.pop())"
   ]
  }
 ],
 "metadata": {
  "kernelspec": {
   "display_name": "Python 3 (ipykernel)",
   "language": "python",
   "name": "python3"
  },
  "language_info": {
   "codemirror_mode": {
    "name": "ipython",
    "version": 3
   },
   "file_extension": ".py",
   "mimetype": "text/x-python",
   "name": "python",
   "nbconvert_exporter": "python",
   "pygments_lexer": "ipython3",
   "version": "3.10.2"
  }
 },
 "nbformat": 4,
 "nbformat_minor": 5
}
